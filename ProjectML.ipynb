{
  "nbformat": 4,
  "nbformat_minor": 0,
  "metadata": {
    "colab": {
      "provenance": []
    },
    "kernelspec": {
      "name": "python3",
      "display_name": "Python 3"
    },
    "language_info": {
      "name": "python"
    }
  },
  "cells": [
    {
      "cell_type": "markdown",
      "source": [
        "Project ML\n",
        "ML | Heart Disease Prediction Using Logistic Regression, Decision tree, Random forest, and XGBoost"
      ],
      "metadata": {
        "id": "w-ppyJteHnXI"
      }
    },
    {
      "cell_type": "markdown",
      "source": [
        "------------------------\n",
        "link for dataset"
      ],
      "metadata": {
        "id": "dp9z2Yl_jD3s"
      }
    },
    {
      "cell_type": "markdown",
      "source": [
        "[framingham.csv](https://drive.google.com/file/d/1qFLBnUKYdpWwAK5jhIwuDA2vKENqbrnh/view?usp=share_link)"
      ],
      "metadata": {
        "id": "LUg8jOVOht1t"
      }
    },
    {
      "cell_type": "markdown",
      "source": [
        "---------------------------------------------------------\n"
      ],
      "metadata": {
        "id": "58oG7FnxjKoi"
      }
    },
    {
      "cell_type": "code",
      "source": [
        "from google.colab import drive\n",
        "drive.mount('/content/drive')"
      ],
      "metadata": {
        "id": "bRIvtad2-EML"
      },
      "execution_count": null,
      "outputs": []
    },
    {
      "cell_type": "markdown",
      "source": [
        "IMPORT DATA"
      ],
      "metadata": {
        "id": "xOS7eZsFbsuy"
      }
    },
    {
      "cell_type": "code",
      "source": [
        "import pandas as pd\n",
        "import pylab as pl\n",
        "import numpy as np\n",
        "import scipy.optimize as opt\n",
        "import statsmodels.api as sm\n",
        "from sklearn import preprocessing\n",
        "'exec(% matplotlib inline)'\n",
        "import matplotlib.pyplot as plt\n",
        "import matplotlib.mlab as mlab\n",
        "import seaborn as sns"
      ],
      "metadata": {
        "id": "W6AWXvlIbx9U"
      },
      "execution_count": null,
      "outputs": []
    },
    {
      "cell_type": "markdown",
      "source": [
        "DATA PREPARATION"
      ],
      "metadata": {
        "id": "xDed1W2XcD84"
      }
    },
    {
      "cell_type": "markdown",
      "source": [
        "loading dataset"
      ],
      "metadata": {
        "id": "zq2uH8ekdN30"
      }
    },
    {
      "cell_type": "code",
      "source": [
        "# dataset\n",
        "disease_df = pd.read_csv(\"framingham.csv\")\n",
        "disease_df.drop(['education'], inplace = True, axis = 1)\n",
        "disease_df.rename(columns ={'male':'Sex_male'}, inplace = True)\n"
      ],
      "metadata": {
        "id": "f8CYUPkfcPMe",
        "colab": {
          "base_uri": "https://localhost:8080/",
          "height": 350
        },
        "outputId": "5fb5da2b-8f2b-4896-9c77-802f57fba661"
      },
      "execution_count": null,
      "outputs": [
        {
          "output_type": "error",
          "ename": "FileNotFoundError",
          "evalue": "[Errno 2] No such file or directory: 'framingham.csv'",
          "traceback": [
            "\u001b[0;31m---------------------------------------------------------------------------\u001b[0m",
            "\u001b[0;31mFileNotFoundError\u001b[0m                         Traceback (most recent call last)",
            "\u001b[0;32m<ipython-input-3-0a4ed3067b94>\u001b[0m in \u001b[0;36m<cell line: 2>\u001b[0;34m()\u001b[0m\n\u001b[1;32m      1\u001b[0m \u001b[0;31m# dataset\u001b[0m\u001b[0;34m\u001b[0m\u001b[0;34m\u001b[0m\u001b[0m\n\u001b[0;32m----> 2\u001b[0;31m \u001b[0mdisease_df\u001b[0m \u001b[0;34m=\u001b[0m \u001b[0mpd\u001b[0m\u001b[0;34m.\u001b[0m\u001b[0mread_csv\u001b[0m\u001b[0;34m(\u001b[0m\u001b[0;34m\"framingham.csv\"\u001b[0m\u001b[0;34m)\u001b[0m\u001b[0;34m\u001b[0m\u001b[0;34m\u001b[0m\u001b[0m\n\u001b[0m\u001b[1;32m      3\u001b[0m \u001b[0mdisease_df\u001b[0m\u001b[0;34m.\u001b[0m\u001b[0mdrop\u001b[0m\u001b[0;34m(\u001b[0m\u001b[0;34m[\u001b[0m\u001b[0;34m'education'\u001b[0m\u001b[0;34m]\u001b[0m\u001b[0;34m,\u001b[0m \u001b[0minplace\u001b[0m \u001b[0;34m=\u001b[0m \u001b[0;32mTrue\u001b[0m\u001b[0;34m,\u001b[0m \u001b[0maxis\u001b[0m \u001b[0;34m=\u001b[0m \u001b[0;36m1\u001b[0m\u001b[0;34m)\u001b[0m\u001b[0;34m\u001b[0m\u001b[0;34m\u001b[0m\u001b[0m\n\u001b[1;32m      4\u001b[0m \u001b[0mdisease_df\u001b[0m\u001b[0;34m.\u001b[0m\u001b[0mrename\u001b[0m\u001b[0;34m(\u001b[0m\u001b[0mcolumns\u001b[0m \u001b[0;34m=\u001b[0m\u001b[0;34m{\u001b[0m\u001b[0;34m'male'\u001b[0m\u001b[0;34m:\u001b[0m\u001b[0;34m'Sex_male'\u001b[0m\u001b[0;34m}\u001b[0m\u001b[0;34m,\u001b[0m \u001b[0minplace\u001b[0m \u001b[0;34m=\u001b[0m \u001b[0;32mTrue\u001b[0m\u001b[0;34m)\u001b[0m\u001b[0;34m\u001b[0m\u001b[0;34m\u001b[0m\u001b[0m\n",
            "\u001b[0;32m/usr/local/lib/python3.10/dist-packages/pandas/io/parsers/readers.py\u001b[0m in \u001b[0;36mread_csv\u001b[0;34m(filepath_or_buffer, sep, delimiter, header, names, index_col, usecols, dtype, engine, converters, true_values, false_values, skipinitialspace, skiprows, skipfooter, nrows, na_values, keep_default_na, na_filter, verbose, skip_blank_lines, parse_dates, infer_datetime_format, keep_date_col, date_parser, date_format, dayfirst, cache_dates, iterator, chunksize, compression, thousands, decimal, lineterminator, quotechar, quoting, doublequote, escapechar, comment, encoding, encoding_errors, dialect, on_bad_lines, delim_whitespace, low_memory, memory_map, float_precision, storage_options, dtype_backend)\u001b[0m\n\u001b[1;32m   1024\u001b[0m     \u001b[0mkwds\u001b[0m\u001b[0;34m.\u001b[0m\u001b[0mupdate\u001b[0m\u001b[0;34m(\u001b[0m\u001b[0mkwds_defaults\u001b[0m\u001b[0;34m)\u001b[0m\u001b[0;34m\u001b[0m\u001b[0;34m\u001b[0m\u001b[0m\n\u001b[1;32m   1025\u001b[0m \u001b[0;34m\u001b[0m\u001b[0m\n\u001b[0;32m-> 1026\u001b[0;31m     \u001b[0;32mreturn\u001b[0m \u001b[0m_read\u001b[0m\u001b[0;34m(\u001b[0m\u001b[0mfilepath_or_buffer\u001b[0m\u001b[0;34m,\u001b[0m \u001b[0mkwds\u001b[0m\u001b[0;34m)\u001b[0m\u001b[0;34m\u001b[0m\u001b[0;34m\u001b[0m\u001b[0m\n\u001b[0m\u001b[1;32m   1027\u001b[0m \u001b[0;34m\u001b[0m\u001b[0m\n\u001b[1;32m   1028\u001b[0m \u001b[0;34m\u001b[0m\u001b[0m\n",
            "\u001b[0;32m/usr/local/lib/python3.10/dist-packages/pandas/io/parsers/readers.py\u001b[0m in \u001b[0;36m_read\u001b[0;34m(filepath_or_buffer, kwds)\u001b[0m\n\u001b[1;32m    618\u001b[0m \u001b[0;34m\u001b[0m\u001b[0m\n\u001b[1;32m    619\u001b[0m     \u001b[0;31m# Create the parser.\u001b[0m\u001b[0;34m\u001b[0m\u001b[0;34m\u001b[0m\u001b[0m\n\u001b[0;32m--> 620\u001b[0;31m     \u001b[0mparser\u001b[0m \u001b[0;34m=\u001b[0m \u001b[0mTextFileReader\u001b[0m\u001b[0;34m(\u001b[0m\u001b[0mfilepath_or_buffer\u001b[0m\u001b[0;34m,\u001b[0m \u001b[0;34m**\u001b[0m\u001b[0mkwds\u001b[0m\u001b[0;34m)\u001b[0m\u001b[0;34m\u001b[0m\u001b[0;34m\u001b[0m\u001b[0m\n\u001b[0m\u001b[1;32m    621\u001b[0m \u001b[0;34m\u001b[0m\u001b[0m\n\u001b[1;32m    622\u001b[0m     \u001b[0;32mif\u001b[0m \u001b[0mchunksize\u001b[0m \u001b[0;32mor\u001b[0m \u001b[0miterator\u001b[0m\u001b[0;34m:\u001b[0m\u001b[0;34m\u001b[0m\u001b[0;34m\u001b[0m\u001b[0m\n",
            "\u001b[0;32m/usr/local/lib/python3.10/dist-packages/pandas/io/parsers/readers.py\u001b[0m in \u001b[0;36m__init__\u001b[0;34m(self, f, engine, **kwds)\u001b[0m\n\u001b[1;32m   1618\u001b[0m \u001b[0;34m\u001b[0m\u001b[0m\n\u001b[1;32m   1619\u001b[0m         \u001b[0mself\u001b[0m\u001b[0;34m.\u001b[0m\u001b[0mhandles\u001b[0m\u001b[0;34m:\u001b[0m \u001b[0mIOHandles\u001b[0m \u001b[0;34m|\u001b[0m \u001b[0;32mNone\u001b[0m \u001b[0;34m=\u001b[0m \u001b[0;32mNone\u001b[0m\u001b[0;34m\u001b[0m\u001b[0;34m\u001b[0m\u001b[0m\n\u001b[0;32m-> 1620\u001b[0;31m         \u001b[0mself\u001b[0m\u001b[0;34m.\u001b[0m\u001b[0m_engine\u001b[0m \u001b[0;34m=\u001b[0m \u001b[0mself\u001b[0m\u001b[0;34m.\u001b[0m\u001b[0m_make_engine\u001b[0m\u001b[0;34m(\u001b[0m\u001b[0mf\u001b[0m\u001b[0;34m,\u001b[0m \u001b[0mself\u001b[0m\u001b[0;34m.\u001b[0m\u001b[0mengine\u001b[0m\u001b[0;34m)\u001b[0m\u001b[0;34m\u001b[0m\u001b[0;34m\u001b[0m\u001b[0m\n\u001b[0m\u001b[1;32m   1621\u001b[0m \u001b[0;34m\u001b[0m\u001b[0m\n\u001b[1;32m   1622\u001b[0m     \u001b[0;32mdef\u001b[0m \u001b[0mclose\u001b[0m\u001b[0;34m(\u001b[0m\u001b[0mself\u001b[0m\u001b[0;34m)\u001b[0m \u001b[0;34m->\u001b[0m \u001b[0;32mNone\u001b[0m\u001b[0;34m:\u001b[0m\u001b[0;34m\u001b[0m\u001b[0;34m\u001b[0m\u001b[0m\n",
            "\u001b[0;32m/usr/local/lib/python3.10/dist-packages/pandas/io/parsers/readers.py\u001b[0m in \u001b[0;36m_make_engine\u001b[0;34m(self, f, engine)\u001b[0m\n\u001b[1;32m   1878\u001b[0m                 \u001b[0;32mif\u001b[0m \u001b[0;34m\"b\"\u001b[0m \u001b[0;32mnot\u001b[0m \u001b[0;32min\u001b[0m \u001b[0mmode\u001b[0m\u001b[0;34m:\u001b[0m\u001b[0;34m\u001b[0m\u001b[0;34m\u001b[0m\u001b[0m\n\u001b[1;32m   1879\u001b[0m                     \u001b[0mmode\u001b[0m \u001b[0;34m+=\u001b[0m \u001b[0;34m\"b\"\u001b[0m\u001b[0;34m\u001b[0m\u001b[0;34m\u001b[0m\u001b[0m\n\u001b[0;32m-> 1880\u001b[0;31m             self.handles = get_handle(\n\u001b[0m\u001b[1;32m   1881\u001b[0m                 \u001b[0mf\u001b[0m\u001b[0;34m,\u001b[0m\u001b[0;34m\u001b[0m\u001b[0;34m\u001b[0m\u001b[0m\n\u001b[1;32m   1882\u001b[0m                 \u001b[0mmode\u001b[0m\u001b[0;34m,\u001b[0m\u001b[0;34m\u001b[0m\u001b[0;34m\u001b[0m\u001b[0m\n",
            "\u001b[0;32m/usr/local/lib/python3.10/dist-packages/pandas/io/common.py\u001b[0m in \u001b[0;36mget_handle\u001b[0;34m(path_or_buf, mode, encoding, compression, memory_map, is_text, errors, storage_options)\u001b[0m\n\u001b[1;32m    871\u001b[0m         \u001b[0;32mif\u001b[0m \u001b[0mioargs\u001b[0m\u001b[0;34m.\u001b[0m\u001b[0mencoding\u001b[0m \u001b[0;32mand\u001b[0m \u001b[0;34m\"b\"\u001b[0m \u001b[0;32mnot\u001b[0m \u001b[0;32min\u001b[0m \u001b[0mioargs\u001b[0m\u001b[0;34m.\u001b[0m\u001b[0mmode\u001b[0m\u001b[0;34m:\u001b[0m\u001b[0;34m\u001b[0m\u001b[0;34m\u001b[0m\u001b[0m\n\u001b[1;32m    872\u001b[0m             \u001b[0;31m# Encoding\u001b[0m\u001b[0;34m\u001b[0m\u001b[0;34m\u001b[0m\u001b[0m\n\u001b[0;32m--> 873\u001b[0;31m             handle = open(\n\u001b[0m\u001b[1;32m    874\u001b[0m                 \u001b[0mhandle\u001b[0m\u001b[0;34m,\u001b[0m\u001b[0;34m\u001b[0m\u001b[0;34m\u001b[0m\u001b[0m\n\u001b[1;32m    875\u001b[0m                 \u001b[0mioargs\u001b[0m\u001b[0;34m.\u001b[0m\u001b[0mmode\u001b[0m\u001b[0;34m,\u001b[0m\u001b[0;34m\u001b[0m\u001b[0;34m\u001b[0m\u001b[0m\n",
            "\u001b[0;31mFileNotFoundError\u001b[0m: [Errno 2] No such file or directory: 'framingham.csv'"
          ]
        }
      ]
    },
    {
      "cell_type": "markdown",
      "source": [
        "handling missing values"
      ],
      "metadata": {
        "id": "eovcbwmQeDAH"
      }
    },
    {
      "cell_type": "code",
      "source": [
        "# removing NaN / NULL values\n",
        "disease_df.dropna(axis = 0, inplace = True)\n",
        "print(disease_df.head(), disease_df.shape)\n",
        "print(disease_df.TenYearCHD.value_counts())"
      ],
      "metadata": {
        "id": "nWVIdZuOeJY1",
        "colab": {
          "base_uri": "https://localhost:8080/"
        },
        "outputId": "48debc1b-cb21-4876-f25c-386e27ad409d"
      },
      "execution_count": null,
      "outputs": [
        {
          "output_type": "stream",
          "name": "stdout",
          "text": [
            "   Sex_male  age  currentSmoker  cigsPerDay  BPMeds  prevalentStroke  \\\n",
            "0         1   39              0         0.0     0.0                0   \n",
            "1         0   46              0         0.0     0.0                0   \n",
            "2         1   48              1        20.0     0.0                0   \n",
            "3         0   61              1        30.0     0.0                0   \n",
            "4         0   46              1        23.0     0.0                0   \n",
            "\n",
            "   prevalentHyp  diabetes  totChol  sysBP  diaBP    BMI  heartRate  glucose  \\\n",
            "0             0         0    195.0  106.0   70.0  26.97       80.0     77.0   \n",
            "1             0         0    250.0  121.0   81.0  28.73       95.0     76.0   \n",
            "2             0         0    245.0  127.5   80.0  25.34       75.0     70.0   \n",
            "3             1         0    225.0  150.0   95.0  28.58       65.0    103.0   \n",
            "4             0         0    285.0  130.0   84.0  23.10       85.0     85.0   \n",
            "\n",
            "   TenYearCHD  \n",
            "0           0  \n",
            "1           0  \n",
            "2           0  \n",
            "3           1  \n",
            "4           0   (3751, 15)\n",
            "TenYearCHD\n",
            "0    3179\n",
            "1     572\n",
            "Name: count, dtype: int64\n"
          ]
        }
      ]
    },
    {
      "cell_type": "markdown",
      "source": [
        "SPLITTING DATA INTO TEST SET AND TRAIN SET"
      ],
      "metadata": {
        "id": "qO3WuVtQeRQa"
      }
    },
    {
      "cell_type": "code",
      "source": [
        "X = np.asarray(disease_df[['age', 'Sex_male', 'cigsPerDay',\n",
        "                           'totChol', 'sysBP', 'glucose']])\n",
        "y = np.asarray(disease_df['TenYearCHD'])\n",
        "\n",
        "# normalization of the dataset   #คือz score\n",
        "X = preprocessing.StandardScaler().fit(X).transform(X)\n",
        "\n",
        "# Train-and-Test -Split\n",
        "from sklearn.model_selection import train_test_split\n",
        "X_train, X_test, y_train, y_test = train_test_split(\n",
        "        X, y, test_size = 0.3, random_state = 4)\n",
        "\n",
        "print ('Train set:', X_train.shape,  y_train.shape)\n",
        "print ('Test set:', X_test.shape,  y_test.shape)\n",
        "\n"
      ],
      "metadata": {
        "id": "uL-mXVd8eVlk",
        "colab": {
          "base_uri": "https://localhost:8080/"
        },
        "outputId": "37eb3662-d703-489d-d4fd-0bf9f50193a1"
      },
      "execution_count": null,
      "outputs": [
        {
          "output_type": "stream",
          "name": "stdout",
          "text": [
            "Train set: (2625, 6) (2625,)\n",
            "Test set: (1126, 6) (1126,)\n"
          ]
        }
      ]
    },
    {
      "cell_type": "markdown",
      "source": [
        "**Exploratory Data Analysis of Heart Disease Dataset**\n",
        "Ten Year’s CHD Record of all the patients available in the dataset:\n",
        "\n"
      ],
      "metadata": {
        "id": "hR-4kdt8egH8"
      }
    },
    {
      "cell_type": "code",
      "source": [
        "# counting no. of patients affected with CHD\n",
        "plt.figure(figsize=(7, 5))\n",
        "sns.countplot(x='TenYearCHD', data=disease_df,\n",
        "             palette=\"BuGn_r\")\n",
        "plt.show()\n",
        "\n",
        "# This code is modified by Susobhan Akhuli\n"
      ],
      "metadata": {
        "colab": {
          "base_uri": "https://localhost:8080/",
          "height": 552
        },
        "id": "AGPCRpsleoVY",
        "outputId": "324c55d8-b98b-4d6f-df9b-a5edbe6443fc"
      },
      "execution_count": null,
      "outputs": [
        {
          "output_type": "stream",
          "name": "stderr",
          "text": [
            "<ipython-input-8-bc59419c8daf>:3: FutureWarning: \n",
            "\n",
            "Passing `palette` without assigning `hue` is deprecated and will be removed in v0.14.0. Assign the `x` variable to `hue` and set `legend=False` for the same effect.\n",
            "\n",
            "  sns.countplot(x='TenYearCHD', data=disease_df,\n"
          ]
        },
        {
          "output_type": "display_data",
          "data": {
            "text/plain": [
              "<Figure size 700x500 with 1 Axes>"
            ],
            "image/png": "[encoded data removed]"
          },
          "metadata": {}
        }
      ]
    },
    {
      "cell_type": "markdown",
      "source": [
        "Counting number of patients affected by CHD where (0= Not Affected; 1= Affected)"
      ],
      "metadata": {
        "id": "zVwCQBVxeuzB"
      }
    },
    {
      "cell_type": "code",
      "source": [
        "laste = disease_df['TenYearCHD'].plot()\n",
        "plt.show(laste)\n"
      ],
      "metadata": {
        "colab": {
          "base_uri": "https://localhost:8080/",
          "height": 430
        },
        "id": "O_V-qVlSevW5",
        "outputId": "be58b82e-bd5a-41e7-cde6-2f00a45d2b5e"
      },
      "execution_count": null,
      "outputs": [
        {
          "output_type": "display_data",
          "data": {
            "text/plain": [
              "<Figure size 640x480 with 1 Axes>"
            ],
            "image/png": "[encoded data removed]"
          },
          "metadata": {}
        }
      ]
    },
    {
      "cell_type": "code",
      "source": [
        "# prompt: handled imbalanced data using smote oversampling\n",
        "import pandas as pd\n",
        "import pylab as pl\n",
        "import numpy as np\n",
        "import scipy.optimize as opt\n",
        "import statsmodels.api as sm\n",
        "from sklearn import preprocessing\n",
        "import matplotlib.pyplot as plt\n",
        "import matplotlib.mlab as mlab\n",
        "import seaborn as sns\n",
        "from sklearn.model_selection import train_test_split\n",
        "from sklearn.linear_model import LogisticRegression\n",
        "from sklearn.ensemble import RandomForestClassifier\n",
        "from sklearn.metrics import classification_report, confusion_matrix, accuracy_score\n",
        "from sklearn.model_selection import cross_val_score\n",
        "from sklearn.metrics import f1_score\n",
        "from sklearn.model_selection import GridSearchCV\n",
        "from imblearn.over_sampling import SMOTE\n",
        "\n",
        "# %matplotlib inline  # This is a Jupyter Notebook magic command\n",
        "\n",
        "# dataset\n",
        "disease_df = pd.read_csv(\"framingham.csv\")\n",
        "disease_df.drop(['education'], inplace = True, axis = 1)\n",
        "disease_df.rename(columns ={'male':'Sex_male'}, inplace = True)\n",
        "# removing NaN / NULL values\n",
        "disease_df.dropna(axis = 0, inplace = True)\n",
        "print(disease_df.head(), disease_df.shape)\n",
        "print(disease_df.TenYearCHD.value_counts())\n",
        "\n",
        "X = np.asarray(disease_df[['age', 'Sex_male', 'cigsPerDay',\n",
        "                           'totChol', 'sysBP', 'glucose']])\n",
        "y = np.asarray(disease_df['TenYearCHD'])\n",
        "\n",
        "# Handle class imbalance using SMOTE\n",
        "smote = SMOTE(random_state=42)\n",
        "X, y = smote.fit_resample(X, y)\n",
        "\n",
        "\n",
        "# normalization of the dataset\n",
        "X = preprocessing.StandardScaler().fit(X).transform(X)\n",
        "\n",
        "# Train-and-Test -Split\n",
        "X_train, X_test, y_train, y_test = train_test_split(\n",
        "        X, y, test_size = 0.3, random_state = 4)\n",
        "\n",
        "print ('Train set:', X_train.shape,  y_train.shape)\n",
        "print ('Test set:', X_test.shape,  y_test.shape)"
      ],
      "metadata": {
        "colab": {
          "base_uri": "https://localhost:8080/"
        },
        "id": "o6wBk8KYstts",
        "outputId": "78fc7127-a1c0-4a16-8d09-3f4c870cd614"
      },
      "execution_count": null,
      "outputs": [
        {
          "output_type": "stream",
          "name": "stdout",
          "text": [
            "   Sex_male  age  currentSmoker  cigsPerDay  BPMeds  prevalentStroke  \\\n",
            "0         1   39              0         0.0     0.0                0   \n",
            "1         0   46              0         0.0     0.0                0   \n",
            "2         1   48              1        20.0     0.0                0   \n",
            "3         0   61              1        30.0     0.0                0   \n",
            "4         0   46              1        23.0     0.0                0   \n",
            "\n",
            "   prevalentHyp  diabetes  totChol  sysBP  diaBP    BMI  heartRate  glucose  \\\n",
            "0             0         0    195.0  106.0   70.0  26.97       80.0     77.0   \n",
            "1             0         0    250.0  121.0   81.0  28.73       95.0     76.0   \n",
            "2             0         0    245.0  127.5   80.0  25.34       75.0     70.0   \n",
            "3             1         0    225.0  150.0   95.0  28.58       65.0    103.0   \n",
            "4             0         0    285.0  130.0   84.0  23.10       85.0     85.0   \n",
            "\n",
            "   TenYearCHD  \n",
            "0           0  \n",
            "1           0  \n",
            "2           0  \n",
            "3           1  \n",
            "4           0   (3751, 15)\n",
            "TenYearCHD\n",
            "0    3179\n",
            "1     572\n",
            "Name: count, dtype: int64\n",
            "Train set: (4450, 6) (4450,)\n",
            "Test set: (1908, 6) (1908,)\n"
          ]
        }
      ]
    },
    {
      "cell_type": "markdown",
      "source": [
        "# Method 1: Fitting Logistic Regression Model for Heart Disease Prediction"
      ],
      "metadata": {
        "id": "JKMTz9LKe6Gm"
      }
    },
    {
      "cell_type": "code",
      "source": [
        "from sklearn.linear_model import LogisticRegression\n",
        "logreg = LogisticRegression()\n",
        "logreg.fit(X_train, y_train)\n",
        "y_pred = logreg.predict(X_test)\n"
      ],
      "metadata": {
        "id": "NxbwyKTae9qI"
      },
      "execution_count": null,
      "outputs": []
    },
    {
      "cell_type": "markdown",
      "source": [
        "  Evaluating Logistic Regression Model"
      ],
      "metadata": {
        "id": "yiW-9Rz4fKun"
      }
    },
    {
      "cell_type": "code",
      "source": [
        "# Evaluation and accuracy\n",
        "from sklearn.metrics import accuracy_score\n",
        "print('Accuracy of the model is =',\n",
        "      accuracy_score(y_test, y_pred))\n"
      ],
      "metadata": {
        "colab": {
          "base_uri": "https://localhost:8080/"
        },
        "id": "PuajbbpVfXvj",
        "outputId": "8bce1745-5333-42fc-e439-d7d4daf00f4c"
      },
      "execution_count": null,
      "outputs": [
        {
          "output_type": "stream",
          "name": "stdout",
          "text": [
            "Accuracy of the model is = 0.6713836477987422\n"
          ]
        }
      ]
    },
    {
      "cell_type": "code",
      "source": [
        "# prompt: using cross validation, f2-score precision:recall = 1:2\n",
        "\n",
        "from sklearn.metrics import make_scorer, fbeta_score\n",
        "\n",
        "# Define the F2 scorer\n",
        "f2_scorer = make_scorer(fbeta_score, beta=2)\n",
        "\n",
        "# Assuming 'logreg' is your LogisticRegression model and 'X', 'y' are your data\n",
        "scores = cross_val_score(logreg, X, y, cv=5, scoring=f2_scorer)  # 5-fold cross-validation\n",
        "\n",
        "print(\"F2 scores for each fold:\", scores)\n",
        "print(\"Mean F2 score:\", scores.mean())\n",
        "print(\"Standard Deviation of F2 scores:\", scores.std())"
      ],
      "metadata": {
        "colab": {
          "base_uri": "https://localhost:8080/"
        },
        "id": "u-cIYH8154Wj",
        "outputId": "07ab97ae-2070-4345-cd3c-cb9e4571d332"
      },
      "execution_count": null,
      "outputs": [
        {
          "output_type": "stream",
          "name": "stdout",
          "text": [
            "F2 scores for each fold: [0.69518717 0.6838143  0.71095208 0.69505322 0.69040925]\n",
            "Mean F2 score: 0.6950832051901126\n",
            "Standard Deviation of F2 scores: 0.008951726845761114\n"
          ]
        }
      ]
    },
    {
      "cell_type": "markdown",
      "source": [
        "Confusion matrix"
      ],
      "metadata": {
        "id": "cOK1NTYjfdox"
      }
    },
    {
      "cell_type": "code",
      "source": [
        "# Confusion matrix\n",
        "from sklearn.metrics import confusion_matrix, classification_report\n",
        "\n",
        "cm = confusion_matrix(y_test, y_pred)\n",
        "conf_matrix = pd.DataFrame(data = cm,\n",
        "                           columns = ['Predicted:0', 'Predicted:1'],\n",
        "                           index =['Actual:0', 'Actual:1'])\n",
        "\n",
        "plt.figure(figsize = (8, 5))\n",
        "sns.heatmap(conf_matrix, annot = True, fmt = 'd', cmap = \"Greens\")\n",
        "\n",
        "plt.show()\n",
        "print('The details for confusion matrix is =')\n",
        "print (classification_report(y_test, y_pred))\n",
        "\n",
        "# This code is modified by Susobhan Akhuli\n"
      ],
      "metadata": {
        "colab": {
          "base_uri": "https://localhost:8080/",
          "height": 622
        },
        "id": "lMBaS7lPfgg9",
        "outputId": "43d14f36-4988-41fc-9301-3934c79d880d"
      },
      "execution_count": null,
      "outputs": [
        {
          "output_type": "display_data",
          "data": {
            "text/plain": [
              "<Figure size 800x500 with 2 Axes>"
            ],
            "image/png": "[encoded data removed]"
          },
          "metadata": {}
        },
        {
          "output_type": "stream",
          "name": "stdout",
          "text": [
            "The details for confusion matrix is =\n",
            "              precision    recall  f1-score   support\n",
            "\n",
            "           0       0.68      0.65      0.67       961\n",
            "           1       0.66      0.69      0.68       947\n",
            "\n",
            "    accuracy                           0.67      1908\n",
            "   macro avg       0.67      0.67      0.67      1908\n",
            "weighted avg       0.67      0.67      0.67      1908\n",
            "\n"
          ]
        }
      ]
    },
    {
      "cell_type": "markdown",
      "source": [
        "# Optimization Logistic Regression"
      ],
      "metadata": {
        "id": "iWIbHd0rCPwd"
      }
    },
    {
      "cell_type": "code",
      "source": [
        "from sklearn.model_selection import GridSearchCV\n",
        "\n",
        "# Define the parameter grid to search\n",
        "param_grid = {\n",
        "    'C': [0.001, 0.01, 0.1, 1, 10, 100],  # Regularization strength\n",
        "    'penalty': ['l1', 'l2'],  # Regularization type\n",
        "    'solver': ['liblinear', 'saga'] # Solvers compatible with both penalties\n",
        "}\n",
        "\n",
        "# Create a LogisticRegression object\n",
        "logreg = LogisticRegression(max_iter=1000) # Increased max_iter to ensure convergence\n",
        "\n",
        "# Create GridSearchCV object\n",
        "grid_search = GridSearchCV(logreg, param_grid, cv=5, scoring='f1') # Use f1 scoring\n",
        "\n",
        "# Fit the grid search to the data\n",
        "grid_search.fit(X_train, y_train)\n",
        "\n",
        "# Get the best hyperparameters\n",
        "best_params = grid_search.best_params_\n",
        "print(f\"Best Hyperparameters: {best_params}\")\n",
        "\n",
        "# Get the best model\n",
        "best_logreg = grid_search.best_estimator_\n",
        "\n",
        "# Evaluate the best model\n",
        "y_pred = best_logreg.predict(X_test)\n",
        "print(classification_report(y_test, y_pred))"
      ],
      "metadata": {
        "colab": {
          "base_uri": "https://localhost:8080/"
        },
        "id": "jy-hLK5U9cXq",
        "outputId": "b0d7f112-e85c-48c5-ff38-6e3e5dc9ea76"
      },
      "execution_count": null,
      "outputs": [
        {
          "output_type": "stream",
          "name": "stdout",
          "text": [
            "Best Hyperparameters: {'C': 0.01, 'penalty': 'l2', 'solver': 'saga'}\n",
            "              precision    recall  f1-score   support\n",
            "\n",
            "           0       0.69      0.65      0.67       961\n",
            "           1       0.66      0.70      0.68       947\n",
            "\n",
            "    accuracy                           0.67      1908\n",
            "   macro avg       0.67      0.67      0.67      1908\n",
            "weighted avg       0.68      0.67      0.67      1908\n",
            "\n"
          ]
        }
      ]
    },
    {
      "cell_type": "code",
      "source": [
        "# prompt: using cross validation, f2-score precision:recall = 1:2 (the model with hyper parameter : {'C': 0.01, 'penalty': 'l2', 'solver': 'saga'}\n",
        "\n",
        "from sklearn.metrics import make_scorer, fbeta_score\n",
        "\n",
        "# Define the F2 scorer\n",
        "f2_scorer = make_scorer(fbeta_score, beta=2)\n",
        "\n",
        "# Specify the hyperparameters you want to use\n",
        "hyperparameters = {'C': 0.01, 'penalty': 'l2', 'solver': 'saga'}\n",
        "\n",
        "# Create a LogisticRegression model with the specified hyperparameters\n",
        "logreg = LogisticRegression(**hyperparameters, max_iter=1000)\n",
        "\n",
        "# Perform cross-validation with the F2 scorer\n",
        "scores = cross_val_score(logreg, X, y, cv=5, scoring=f2_scorer)\n",
        "\n",
        "print(\"F2 scores for each fold:\", scores)\n",
        "print(\"Mean F2 score:\", scores.mean())\n",
        "print(\"Standard Deviation of F2 scores:\", scores.std())"
      ],
      "metadata": {
        "colab": {
          "base_uri": "https://localhost:8080/"
        },
        "id": "YWL27o-A-Cud",
        "outputId": "2e5d5a7f-d606-411f-af69-7d969a1b1f07"
      },
      "execution_count": null,
      "outputs": [
        {
          "output_type": "stream",
          "name": "stdout",
          "text": [
            "F2 scores for each fold: [0.69924576 0.68025078 0.70939639 0.69640063 0.69513716]\n",
            "Mean F2 score: 0.6960861429919935\n",
            "Standard Deviation of F2 scores: 0.009369140166106966\n"
          ]
        }
      ]
    },
    {
      "cell_type": "markdown",
      "source": [
        "# Method2:Decision Tree Classifier"
      ],
      "metadata": {
        "id": "5Xbu4YxRoTOe"
      }
    },
    {
      "cell_type": "markdown",
      "source": [
        "จะเป็นการทำ decision tree โดยใช้  grid search cross validation มาช่วยเพื่อหาค่า hyperparameter ที่ทำให้ได้ค่า f2 ที่ดีที่สุด\n",
        "\n",
        "\n",
        "ปัญหาที่พบ เมื่อกำหนด choice ของ max death ให้มี none หรือ ค่าที่มากเกินไป จะทำให้ decision tree ที่ออกมา เป็น largest tree(ไม่ได้ prun นั่นเอง)"
      ],
      "metadata": {
        "id": "YtExpbaVoaP7"
      }
    },
    {
      "cell_type": "code",
      "source": [
        "# Import necessary libraries\n",
        "from sklearn.model_selection import GridSearchCV\n",
        "from sklearn.tree import DecisionTreeClassifier\n",
        "from sklearn.metrics import make_scorer, fbeta_score\n",
        "from sklearn.preprocessing import StandardScaler\n",
        "import seaborn as sns\n",
        "import matplotlib.pyplot as plt\n",
        "from sklearn.model_selection import train_test_split\n",
        "from sklearn.metrics import classification_report, confusion_matrix\n",
        "\n",
        "\n",
        "\n",
        "# Step 1: Define the model\n",
        "tree = DecisionTreeClassifier(random_state=42)\n",
        "\n",
        "# Define the parameter grid for GridSearchCV with 5 important hyperparameters\n",
        "param_grid = {\n",
        "    'max_depth': [3, 5, 7, 10, 12, ],  # List of depths to try, including None (no limit)--should not put none because it mean we use largest tree(no prunning)\n",
        "    'min_samples_split': [2, 5,7,10],  # Minimum samples required to split a node\n",
        "    'min_samples_leaf': [1, 2, 4,6],  # Minimum samples required to be at a leaf node\n",
        "    'criterion': ['gini', 'entropy'],  # Criterion for splitting nodes\n",
        "    'max_features': [None, 'sqrt', 'log2']  # Number of features to consider for splitting\n",
        "}\n",
        "\n",
        "# Step 2: Define the custom F2 scorer\n",
        "f2_scorer = make_scorer(fbeta_score, beta=2)\n",
        "\n",
        "# Step 3: Initialize GridSearchCV with 5-fold cross-validation and optimize for F2 score\n",
        "grid_search = GridSearchCV(estimator=tree, param_grid=param_grid, cv=5, scoring=f2_scorer)\n",
        "\n",
        "# Step 4: Fit GridSearchCV to the training data\n",
        "grid_search.fit(X_train, y_train)\n",
        "\n",
        "# Step 5: Get the best hyperparameters and model\n",
        "best_params = grid_search.best_params_\n",
        "best_model = grid_search.best_estimator_\n",
        "best_f2_score = grid_search.best_score_\n",
        "\n",
        "# Step 6: Make predictions on the test set using the best model\n",
        "y_pred = best_model.predict(X_test)\n",
        "\n",
        "# Step 7: Evaluate the model using F2 score, classification report, and confusion matrix\n",
        "# F2 score on test set\n",
        "f2_score_value = fbeta_score(y_test, y_pred, beta=2)\n",
        "print(f\"Best F2 Score from GridSearchCV: {best_f2_score:.2f}\")\n",
        "print(f\"Test F2 Score: {f2_score_value:.2f}\")\n",
        "print(\"\\nBest Hyperparameters: \", best_params)\n",
        "\n",
        "# Classification report\n",
        "class_report = classification_report(y_test, y_pred)\n",
        "print(\"\\nClassification Report:\\n\", class_report)\n",
        "\n",
        "# Confusion Matrix\n",
        "conf_matrix = confusion_matrix(y_test, y_pred)\n",
        "print(\"\\nConfusion Matrix:\\n\", conf_matrix)\n",
        "\n",
        "# Step 8: Visualize the confusion matrix using a heatmap\n",
        "plt.figure(figsize=(6, 4))\n",
        "sns.heatmap(conf_matrix, annot=True, fmt=\"d\", cmap=\"Blues\", cbar=False,\n",
        "            xticklabels=[\"No CHD\", \"CHD\"], yticklabels=[\"No CHD\", \"CHD\"])\n",
        "plt.xlabel(\"Predicted Label\")\n",
        "plt.ylabel(\"True Label\")\n",
        "plt.title(\"Confusion Matrix of Best Decision Tree Model (F2 score optimized)\")\n",
        "plt.show()\n",
        "\n"
      ],
      "metadata": {
        "colab": {
          "base_uri": "https://localhost:8080/",
          "height": 740
        },
        "id": "5jNm8LGMo8J-",
        "outputId": "c77c5bfc-d7d1-40bf-a36e-f3bdb94f15f7"
      },
      "execution_count": null,
      "outputs": [
        {
          "output_type": "stream",
          "name": "stdout",
          "text": [
            "Best F2 Score from GridSearchCV: 0.79\n",
            "Test F2 Score: 0.79\n",
            "\n",
            "Best Hyperparameters:  {'criterion': 'entropy', 'max_depth': 12, 'max_features': 'sqrt', 'min_samples_leaf': 1, 'min_samples_split': 5}\n",
            "\n",
            "Classification Report:\n",
            "               precision    recall  f1-score   support\n",
            "\n",
            "           0       0.79      0.74      0.77       961\n",
            "           1       0.75      0.80      0.78       947\n",
            "\n",
            "    accuracy                           0.77      1908\n",
            "   macro avg       0.77      0.77      0.77      1908\n",
            "weighted avg       0.77      0.77      0.77      1908\n",
            "\n",
            "\n",
            "Confusion Matrix:\n",
            " [[712 249]\n",
            " [187 760]]\n"
          ]
        },
        {
          "output_type": "display_data",
          "data": {
            "text/plain": [
              "<Figure size 600x400 with 1 Axes>"
            ],
            "image/png": "[encoded data removed]"
          },
          "metadata": {}
        }
      ]
    },
    {
      "cell_type": "markdown",
      "source": [
        "The 5 hyperparameters in the Decision Tree model that affect overfitting are:\n",
        "\n",
        "max_depth: Controls the maximum depth of the tree. A larger depth allows the tree to grow deeper, potentially leading to overfitting by memorizing the training data. Limiting the depth helps prevent overfitting by simplifying the model.\n",
        "\n",
        "min_samples_split: Specifies the minimum number of samples required to split a node. Lower values (e.g., 2) can lead to overfitting because nodes can split even with few samples, capturing noise. Higher values make the model simpler and more general.\n",
        "\n",
        "min_samples_leaf: Determines the minimum number of samples required at a leaf node. Smaller values (e.g., 1) lead to more complex trees that may overfit. Increasing this value forces the tree to be simpler and generalizes better.\n",
        "\n",
        "criterion: Specifies the function to measure the quality of a split (e.g., \"gini\" or \"entropy\"). The choice of criterion affects how splits are made, but doesn't directly prevent overfitting. It's the tree structure that determines complexity.\n",
        "\n",
        "max_features: Limits the number of features considered at each split. Using fewer features (e.g., sqrt or log2) can prevent overfitting by reducing the model's complexity, as it doesn't rely on all features for every split."
      ],
      "metadata": {
        "id": "nXrz2YMZp9c1"
      }
    },
    {
      "cell_type": "markdown",
      "source": [
        "**model evaluate**\n",
        "\n",
        "\n",
        "Predictions: The best model (with the best hyperparameters) is used to make predictions on the test set (X_test).\n",
        "\n",
        "F2 Score: The F2 score is calculated on the test set to evaluate model performance.\n",
        "\n",
        "Classification Report: Provides a detailed report of the model's precision, recall, F1-score, and support.\n",
        "\n",
        "Confusion Matrix: Shows the number of true positives, true negatives, false positives, and false negatives."
      ],
      "metadata": {
        "id": "bahO8UXcrpRk"
      }
    },
    {
      "cell_type": "markdown",
      "source": [
        "# Method3:Random forest"
      ],
      "metadata": {
        "id": "XN9-ieQsgZxy"
      }
    },
    {
      "cell_type": "code",
      "source": [
        "# prompt: use python create random forest model for dataset framingham.csv\n",
        "from sklearn.ensemble import RandomForestClassifier\n",
        "from sklearn.metrics import classification_report, confusion_matrix\n",
        "import matplotlib.pyplot as plt\n",
        "import seaborn as sns\n",
        "\n",
        "# Assuming you have already loaded and split your data\n",
        "\n",
        "# Initialize the Random Forest Classifier (consider hyperparameter tuning)\n",
        "rf_model = RandomForestClassifier(n_estimators=100, random_state=42)\n",
        "\n",
        "# Train the model\n",
        "rf_model.fit(X_train, y_train)\n",
        "\n",
        "# Make predictions\n",
        "\n",
        "y_pred_rf = rf_model.predict(X_test)\n",
        "\n",
        "# Evaluate the model\n",
        "accuracy_rf = accuracy_score(y_test, y_pred_rf)\n",
        "print(\"Random Forest Model Accuracy:\", accuracy_rf)\n",
        "\n",
        "print(\"\\nClassification Report:\\n\", classification_report(y_test, y_pred_rf))\n",
        "\n",
        "# Confusion Matrix\n",
        "conf_matrix_rf = confusion_matrix(y_test, y_pred_rf)\n",
        "print(\"Confusion Matrix:\\n\", conf_matrix_rf)\n",
        "\n",
        "# Plotting the Confusion Matrix\n",
        "plt.figure(figsize=(6, 4))\n",
        "sns.heatmap(conf_matrix_rf, annot=True, fmt=\"d\", cmap=\"Blues\",\n",
        "            xticklabels=[\"No CHD\", \"CHD\"], yticklabels=[\"No CHD\", \"CHD\"])\n",
        "plt.xlabel(\"Predicted\")\n",
        "plt.ylabel(\"Actual\")\n",
        "plt.title(\"Confusion Matrix (Random Forest)\")\n",
        "plt.show()"
      ],
      "metadata": {
        "id": "TZpRydas8L_1"
      },
      "execution_count": null,
      "outputs": []
    },
    {
      "cell_type": "markdown",
      "source": [],
      "metadata": {
        "id": "isOgMp1KQ4RY"
      }
    },
    {
      "cell_type": "markdown",
      "source": [
        "find hyperparameter of random forest"
      ],
      "metadata": {
        "id": "NvBA1jKeOcID"
      }
    },
    {
      "cell_type": "markdown",
      "source": [
        "1) use grid search"
      ],
      "metadata": {
        "id": "u6YE5kYpQ98o"
      }
    },
    {
      "cell_type": "code",
      "source": [
        "from sklearn.model_selection import GridSearchCV\n",
        "from sklearn.ensemble import RandomForestClassifier\n",
        "\n",
        "\n",
        "# กำหนดช่วงของค่าพารามิเตอร์ที่ต้องการทดลอง\n",
        "param_grid = {\n",
        "    'n_estimators': [100, 200, 500],\n",
        "     'max_depth': [5, 10, 15],\n",
        "    'min_samples_split': [2, 5, 10]\n",
        "}\n",
        "\n",
        "# สร้างโมเดล Random Forest\n",
        "rf = RandomForestClassifier(random_state=42)\n",
        "\n",
        "# ทำ Grid Search\n",
        "grid_search = GridSearchCV(estimator=rf, param_grid=param_grid, cv=5)\n",
        "grid_search.fit(X_train, y_train)\n",
        "\n",
        "# แสดงผลลัพธ์ที่ดีที่สุด\n",
        "print(grid_search.best_params_)"
      ],
      "metadata": {
        "colab": {
          "base_uri": "https://localhost:8080/"
        },
        "id": "VY9FQ9cKObWG",
        "outputId": "054c0f25-d316-46eb-a1c5-51bbecbfbc21"
      },
      "execution_count": null,
      "outputs": [
        {
          "output_type": "stream",
          "name": "stderr",
          "text": [
            "/usr/local/lib/python3.10/dist-packages/numpy/ma/core.py:2820: RuntimeWarning: invalid value encountered in cast\n",
            "  _data = np.array(data, dtype=dtype, copy=copy,\n"
          ]
        },
        {
          "output_type": "stream",
          "name": "stdout",
          "text": [
            "{'max_depth': 15, 'min_samples_split': 2, 'n_estimators': 500}\n"
          ]
        }
      ]
    },
    {
      "cell_type": "markdown",
      "source": [
        "เทสจากทีละ parameter ได้เเก่\n",
        "\n",
        "1) max_depth\n",
        "2) min_sample_split\n",
        "3) max_leaf_nodes\n",
        "4) min_samples_leaf\n",
        "5) n_estimators\n",
        "6) max_sample (bootstrap sample)\n",
        "7) max_features\n",
        "วัดแต่ละเเบบด้วยF1 score เพราะอยากให้balance"
      ],
      "metadata": {
        "id": "_swrG3Fh-Vkm"
      }
    },
    {
      "cell_type": "markdown",
      "source": [
        "==================1) find hyper for max_depth"
      ],
      "metadata": {
        "id": "xueXT0jy_E7N"
      }
    },
    {
      "cell_type": "code",
      "source": [
        "# prompt: # prompt: find hyperparameter for max dept of random forest above and then plot the graph between y=F1 score and x= parameter value . There are two lines ; train data and test data\n",
        "\n",
        "from sklearn.metrics import f1_score\n",
        "\n",
        "# Define the parameter grid for max_depth\n",
        "param_grid = {'max_depth': range(1, 21)}  # Test depths from 1 to 20\n",
        "\n",
        "# Initialize lists to store results\n",
        "train_f1_scores = []\n",
        "test_f1_scores = []\n",
        "depths = []\n",
        "\n",
        "# Loop through the parameter values\n",
        "for depth in param_grid['max_depth']:\n",
        "    # Initialize and train the model with the current parameter value\n",
        "    rf_model = RandomForestClassifier(n_estimators=100, max_depth=depth, random_state=42)\n",
        "    rf_model.fit(X_train, y_train)\n",
        "\n",
        "    # Predict on training data\n",
        "    y_train_pred = rf_model.predict(X_train)\n",
        "\n",
        "    # Predict on test data\n",
        "    y_test_pred = rf_model.predict(X_test)\n",
        "\n",
        "    # Calculate F1 scores\n",
        "    train_f1 = f1_score(y_train, y_train_pred)\n",
        "    test_f1 = f1_score(y_test, y_test_pred)\n",
        "\n",
        "    # Append results to lists\n",
        "    train_f1_scores.append(train_f1)\n",
        "    test_f1_scores.append(test_f1)\n",
        "    depths.append(depth)\n",
        "\n",
        "# Plot the results\n",
        "plt.figure(figsize=(10, 6))\n",
        "plt.plot(depths, train_f1_scores, label='Train F1 Score')\n",
        "plt.plot(depths, test_f1_scores, label='Test F1 Score')\n",
        "plt.xlabel('Max Depth')\n",
        "plt.ylabel('F1 Score')\n",
        "plt.title('F1 Score vs. Max Depth for Random Forest')\n",
        "plt.legend()\n",
        "plt.grid(True)\n",
        "plt.show()"
      ],
      "metadata": {
        "colab": {
          "base_uri": "https://localhost:8080/",
          "height": 564
        },
        "id": "qfcL44SNA4z0",
        "outputId": "02c887e2-4400-4d16-aec9-39dfedb884b3"
      },
      "execution_count": null,
      "outputs": [
        {
          "output_type": "display_data",
          "data": {
            "text/plain": [
              "<Figure size 1000x600 with 1 Axes>"
            ],
            "image/png": "[encoded data removed]"
          },
          "metadata": {}
        }
      ]
    },
    {
      "cell_type": "markdown",
      "source": [],
      "metadata": {
        "id": "-iI5snVJnLMc"
      }
    },
    {
      "cell_type": "code",
      "source": [
        "# prompt: using random search for those 7 hyper parameters\n",
        "\n",
        "from sklearn.model_selection import RandomizedSearchCV\n",
        "from scipy.stats import randint, uniform\n",
        "from sklearn.metrics import fbeta_score, make_scorer\n",
        "\n",
        "# Define the parameter distributions for RandomizedSearchCV\n",
        "param_dist = {\n",
        "    'max_depth': randint(10, 50),  # Random integer between 10 and 50\n",
        "    'min_samples_split': randint(2, 20),\n",
        "    'max_leaf_nodes': randint(10, 50),\n",
        "    'min_samples_leaf': randint(1, 16),\n",
        "    'n_estimators': randint(100, 500),\n",
        "    'max_samples': uniform(0.5, 0.5),  # Random float between 0.5 and 1.0\n",
        "    'max_features': ['sqrt', 'log2', None] + [uniform(0.1,0.9).rvs() for i in range(3)],\n",
        "    # Randomly choose from 'sqrt', 'log2', None, or a random float\n",
        "}\n",
        "\n",
        "# Initialize the Random Forest Classifier\n",
        "rf_model = RandomForestClassifier(random_state=53)\n",
        "\n",
        "f2_scorer = make_scorer(fbeta_score, beta=2)  # beta=2 for F2 score\n",
        "\n",
        "# Perform RandomizedSearchCV\n",
        "random_search = RandomizedSearchCV(estimator=rf_model, param_distributions=param_dist,\n",
        "                                   n_iter=100, cv=5, scoring=f2_scorer, n_jobs=-1, random_state=53)\n",
        "random_search.fit(X_train, y_train)\n",
        "\n",
        "# Get the best hyperparameters\n",
        "best_params = random_search.best_params_\n",
        "print(f\"Best Hyperparameters: {best_params}\")\n",
        "\n",
        "# Train the model with the best hyperparameters\n",
        "best_rf_model = RandomForestClassifier(**best_params, random_state=53)\n",
        "best_rf_model.fit(X_train, y_train)\n",
        "\n",
        "# Make predictions and evaluate\n",
        "y_pred = best_rf_model.predict(X_test)\n",
        "f2_scorer = accuracy_score(y_test, y_pred)\n",
        "print(f\"F2 with best hyperparameters: {f2_scorer}\")"
      ],
      "metadata": {
        "id": "ORCKNQWBm9b-",
        "colab": {
          "base_uri": "https://localhost:8080/",
          "height": 231
        },
        "outputId": "cd1c3b2e-a7ef-4c74-f2fd-f7a83b6a4dfd"
      },
      "execution_count": null,
      "outputs": [
        {
          "output_type": "stream",
          "name": "stdout",
          "text": [
            "Best Hyperparameters: {'max_depth': 43, 'max_features': 0.939732391100374, 'max_leaf_nodes': 33, 'max_samples': 0.9498543631218552, 'min_samples_leaf': 5, 'min_samples_split': 13, 'n_estimators': 485}\n"
          ]
        },
        {
          "output_type": "error",
          "ename": "NameError",
          "evalue": "name 'accuracy_score' is not defined",
          "traceback": [
            "\u001b[0;31m---------------------------------------------------------------------------\u001b[0m",
            "\u001b[0;31mNameError\u001b[0m                                 Traceback (most recent call last)",
            "\u001b[0;32m<ipython-input-8-389dff809f36>\u001b[0m in \u001b[0;36m<cell line: 39>\u001b[0;34m()\u001b[0m\n\u001b[1;32m     37\u001b[0m \u001b[0;31m# Make predictions and evaluate\u001b[0m\u001b[0;34m\u001b[0m\u001b[0;34m\u001b[0m\u001b[0m\n\u001b[1;32m     38\u001b[0m \u001b[0my_pred\u001b[0m \u001b[0;34m=\u001b[0m \u001b[0mbest_rf_model\u001b[0m\u001b[0;34m.\u001b[0m\u001b[0mpredict\u001b[0m\u001b[0;34m(\u001b[0m\u001b[0mX_test\u001b[0m\u001b[0;34m)\u001b[0m\u001b[0;34m\u001b[0m\u001b[0;34m\u001b[0m\u001b[0m\n\u001b[0;32m---> 39\u001b[0;31m \u001b[0mf2_scorer\u001b[0m \u001b[0;34m=\u001b[0m \u001b[0maccuracy_score\u001b[0m\u001b[0;34m(\u001b[0m\u001b[0my_test\u001b[0m\u001b[0;34m,\u001b[0m \u001b[0my_pred\u001b[0m\u001b[0;34m)\u001b[0m\u001b[0;34m\u001b[0m\u001b[0;34m\u001b[0m\u001b[0m\n\u001b[0m\u001b[1;32m     40\u001b[0m \u001b[0mprint\u001b[0m\u001b[0;34m(\u001b[0m\u001b[0;34mf\"F2 with best hyperparameters: {f2_scorer}\"\u001b[0m\u001b[0;34m)\u001b[0m\u001b[0;34m\u001b[0m\u001b[0;34m\u001b[0m\u001b[0m\n",
            "\u001b[0;31mNameError\u001b[0m: name 'accuracy_score' is not defined"
          ]
        }
      ]
    },
    {
      "cell_type": "code",
      "source": [
        "from sklearn.model_selection import cross_val_score\n",
        "from sklearn.metrics import fbeta_score, make_scorer\n",
        "\n",
        "# Assuming 'best_rf_model' is your trained Random Forest model\n",
        "# and 'X', 'y' are your feature and target data\n",
        "\n",
        "# Create an F2 scorer (beta=2)\n",
        "f2_scorer = make_scorer(fbeta_score, beta=2)\n",
        "\n",
        "# Perform 5-fold cross-validation with the F2 scorer\n",
        "cv_scores = cross_val_score(best_rf_model, X, y, cv=5, scoring=f2_scorer)\n",
        "\n",
        "# Print the cross-validation scores for each fold\n",
        "print(\"Cross-Validation F2 Scores:\", cv_scores)\n",
        "\n",
        "# Calculate and print the mean and standard deviation of the F2 scores\n",
        "print(\"Mean F2 Score:\", cv_scores.mean())\n",
        "print(\"Standard Deviation of F2 Score:\", cv_scores.std())"
      ],
      "metadata": {
        "id": "NEqdhqQUgAOC"
      },
      "execution_count": null,
      "outputs": []
    },
    {
      "cell_type": "markdown",
      "source": [
        "the hyperparameter for max dept is 3 at จุดตัด"
      ],
      "metadata": {
        "id": "TxuJgDFsBaMv"
      }
    },
    {
      "cell_type": "markdown",
      "source": [
        "# Method5:XGBoost\n",
        "\n",
        "มีการปรับค่าน้ำหนัก ด้วย hyperparameter ให้ความสำคัญกับ recall\n",
        "\n"
      ],
      "metadata": {
        "id": "2ag2Fk_1gCcT"
      }
    },
    {
      "cell_type": "code",
      "source": [
        "import numpy as np\n",
        "from sklearn.metrics import make_scorer, fbeta_score\n",
        "from sklearn.model_selection import train_test_split, GridSearchCV\n",
        "from xgboost import XGBClassifier\n",
        "from imblearn.over_sampling import SMOTE\n",
        "\n",
        "# Custom scoring function for F2 score\n",
        "f2_scorer = make_scorer(fbeta_score, beta=2)\n",
        "\n",
        "# Split the dataset\n",
        "X_train, X_test, y_train, y_test = train_test_split(X, y, test_size=0.3, random_state=42)\n",
        "\n",
        "# Apply SMOTE for oversampling\n",
        "smote = SMOTE(random_state=42)\n",
        "X_train_resampled, y_train_resampled = smote.fit_resample(X_train, y_train)\n",
        "\n",
        "# Initialize the XGBoost model\n",
        "xgb_model = XGBClassifier(use_label_encoder=False, eval_metric='logloss')\n",
        "\n",
        "# Define hyperparameters to tune\n",
        "param_grid = {\n",
        "    'n_estimators': [100, 150],\n",
        "    'learning_rate': [0.01, 0.05, 0.1],\n",
        "    'max_depth': [3, 5]\n",
        "}\n",
        "\n",
        "# Use GridSearchCV with the F2 score as the scoring metric\n",
        "grid_search = GridSearchCV(\n",
        "    estimator=xgb_model,\n",
        "    param_grid=param_grid,\n",
        "    scoring=f2_scorer,  # Use F2 score as the metric\n",
        "    cv=5,\n",
        "    verbose=2,\n",
        "    n_jobs=-1\n",
        ")\n",
        "\n",
        "# Fit the model\n",
        "grid_search.fit(X_train_resampled, y_train_resampled)\n",
        "\n",
        "# Get the best model\n",
        "best_model = grid_search.best_estimator_\n",
        "\n",
        "# print best hyperparameter\n",
        "print(\"Best parameters: \", grid_search.best_params_)\n",
        "\n",
        "\n",
        "# Predict and evaluate the model\n",
        "y_pred = best_model.predict(X_test)\n",
        "y_pred_prob = best_model.predict_proba(X_test)[:, 1]\n"
      ],
      "metadata": {
        "id": "flemH-fn8LGt",
        "colab": {
          "base_uri": "https://localhost:8080/"
        },
        "outputId": "cf0de686-fd9e-41b0-e856-fb013d789a3b"
      },
      "execution_count": null,
      "outputs": [
        {
          "output_type": "stream",
          "name": "stdout",
          "text": [
            "Fitting 5 folds for each of 12 candidates, totalling 60 fits\n",
            "Best parameters:  {'learning_rate': 0.1, 'max_depth': 5, 'n_estimators': 150}\n"
          ]
        },
        {
          "output_type": "stream",
          "name": "stderr",
          "text": [
            "/usr/local/lib/python3.10/dist-packages/xgboost/core.py:158: UserWarning: [12:54:50] WARNING: /workspace/src/learner.cc:740: \n",
            "Parameters: { \"use_label_encoder\" } are not used.\n",
            "\n",
            "  warnings.warn(smsg, UserWarning)\n"
          ]
        }
      ]
    },
    {
      "cell_type": "code",
      "source": [
        "from sklearn.metrics import precision_recall_curve, confusion_matrix, fbeta_score\n",
        "import matplotlib.pyplot as plt\n",
        "import seaborn as sns\n",
        "\n",
        "# Calculate the precision-recall curve\n",
        "precision, recall, thresholds = precision_recall_curve(y_test, y_pred_prob)\n",
        "\n",
        "# Plot Precision-Recall curve\n",
        "plt.figure(figsize=(10, 6))\n",
        "plt.plot(thresholds, precision[:-1], label='Precision')\n",
        "plt.plot(thresholds, recall[:-1], label='Recall')\n",
        "plt.axhline(y=0.5, color='r', linestyle='--', label='Baseline')  # Optional, indicates a threshold reference\n",
        "plt.xlabel(\"Threshold\")\n",
        "plt.ylabel(\"Score\")\n",
        "plt.title(\"Precision-Recall Curve\")\n",
        "plt.legend()\n",
        "plt.show()\n",
        "\n",
        "# Calculate F2 score using the chosen threshold\n",
        "chosen_threshold = 0.43  # Adjust as needed to achieve desired balance\n",
        "y_pred_adjusted = (y_pred_prob >= chosen_threshold).astype(int)\n",
        "\n",
        "# Calculate and print F2 score\n",
        "f2_score = fbeta_score(y_test, y_pred_adjusted, beta=2)\n",
        "\n",
        "# Calculate confusion matrix for adjusted predictions\n",
        "\n",
        "conf_matrix = confusion_matrix(y_test, y_pred_adjusted)\n",
        "# Print evaluation metrics\n",
        "from sklearn.metrics import classification_report, confusion_matrix, fbeta_score\n",
        "\n",
        "# Calculate confusion matrix and F2 score for adjusted predictions\n",
        "conf_matrix_adjusted = confusion_matrix(y_test, y_pred_adjusted)\n",
        "f2_adjusted = fbeta_score(y_test, y_pred_adjusted, beta=2)\n",
        "\n",
        "print(f\"F2 Score (threshold={chosen_threshold}): {f2_adjusted:.4f}\")\n",
        "print(\"Confusion Matrix (adjusted predictions):\\n\", conf_matrix_adjusted)\n",
        "print(\"Classification Report (adjusted predictions):\\n\", classification_report(y_test, y_pred_adjusted))\n",
        "\n",
        "# Plot Confusion Matrix as a heatmap for adjusted predictions\n",
        "plt.figure(figsize=(6, 4))\n",
        "sns.heatmap(conf_matrix_adjusted, annot=True, fmt=\"d\", cmap=\"Blues\",\n",
        "            xticklabels=[\"No CHD\", \"CHD\"], yticklabels=[\"No CHD\", \"CHD\"])\n",
        "plt.xlabel(\"Predicted\")\n",
        "plt.ylabel(\"Actual\")\n",
        "plt.title(f\"Confusion Matrix (threshold={chosen_threshold})\")\n",
        "plt.show()"
      ],
      "metadata": {
        "colab": {
          "base_uri": "https://localhost:8080/",
          "height": 1000
        },
        "id": "JxOzMzWkRzn7",
        "outputId": "07008003-d8da-40ae-9841-5cae077df854"
      },
      "execution_count": null,
      "outputs": [
        {
          "output_type": "display_data",
          "data": {
            "text/plain": [
              "<Figure size 1000x600 with 1 Axes>"
            ],
            "image/png": "[encoded data removed]"
          },
          "metadata": {}
        },
        {
          "output_type": "stream",
          "name": "stdout",
          "text": [
            "F2 Score (threshold=0.43): 0.8445\n",
            "Confusion Matrix (adjusted predictions):\n",
            " [[802 151]\n",
            " [148 807]]\n",
            "Classification Report (adjusted predictions):\n",
            "               precision    recall  f1-score   support\n",
            "\n",
            "           0       0.84      0.84      0.84       953\n",
            "           1       0.84      0.85      0.84       955\n",
            "\n",
            "    accuracy                           0.84      1908\n",
            "   macro avg       0.84      0.84      0.84      1908\n",
            "weighted avg       0.84      0.84      0.84      1908\n",
            "\n"
          ]
        },
        {
          "output_type": "display_data",
          "data": {
            "text/plain": [
              "<Figure size 600x400 with 2 Axes>"
            ],
            "image/png": "[encoded data removed]"
          },
          "metadata": {}
        }
      ]
    },
    {
      "cell_type": "code",
      "source": [
        "# Predict and evaluate the model\n",
        "y_pred = best_model.predict(X_test)\n",
        "\n",
        "# Calculate and print accuracy\n",
        "accuracy = accuracy_score(y_test, y_pred)\n",
        "print(f\"XGBoost model Accuracy: {accuracy:.4f}\")"
      ],
      "metadata": {
        "colab": {
          "base_uri": "https://localhost:8080/"
        },
        "id": "MCpjVlePR6p7",
        "outputId": "065d155b-b33d-4b38-e90e-cb2990e48274"
      },
      "execution_count": null,
      "outputs": [
        {
          "output_type": "stream",
          "name": "stdout",
          "text": [
            "XGBoost model Accuracy: 0.8501\n"
          ]
        }
      ]
    },
    {
      "cell_type": "code",
      "source": [
        "from sklearn.metrics import accuracy_score, recall_score # Importing recall_score\n",
        "\n",
        "\n",
        "# ประเมินผลในชุดข้อมูลฝึก\n",
        "y_train_pred = best_model.predict(X_train_resampled)\n",
        "training_recall = recall_score(y_train_resampled, y_train_pred) # Now recall_score is defined\n",
        "training_accuracy = accuracy_score(y_train_resampled, y_train_pred)\n",
        "\n",
        "print(\"Training Recall:\", training_recall)\n",
        "print(\"Training Accuracy:\", training_accuracy)\n",
        "\n",
        "# ประเมินผลในชุดข้อมูลทดสอบ\n",
        "test_recall = recall_score(y_test, y_pred_adjusted)\n",
        "test_accuracy = accuracy_score(y_test, y_pred_adjusted)\n",
        "\n",
        "print(\"Test Recall:\", test_recall)\n",
        "print(\"Test Accuracy:\", test_accuracy)"
      ],
      "metadata": {
        "colab": {
          "base_uri": "https://localhost:8080/"
        },
        "id": "bjzPzf6_SDHi",
        "outputId": "b76f40fd-006f-41a2-881d-266ce5f9f56a"
      },
      "execution_count": null,
      "outputs": [
        {
          "output_type": "stream",
          "name": "stdout",
          "text": [
            "Training Recall: 0.889487870619946\n",
            "Training Accuracy: 0.9303683737646001\n",
            "Test Recall: 0.8450261780104712\n",
            "Test Accuracy: 0.8432914046121593\n"
          ]
        }
      ]
    }
  ]
}